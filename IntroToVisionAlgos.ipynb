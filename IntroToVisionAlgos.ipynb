{
  "cells": [
    {
      "cell_type": "markdown",
      "metadata": {
        "nteract": {
          "transient": {
            "deleting": false
          }
        }
      },
      "source": [
        "# Goal\n",
        "This notebook contains a few algorithms in the course intro to computer vision and their implementations in python\n",
        "## list of algorithms\n",
        "1. \n",
        "## list of libraries and frameworks needed\n",
        "the libraries used\n",
        "- numpy\n",
        "- pytorch\n",
        "- matplotlib\n",
        "- and some more...\n",
        "- TBD"
      ]
    },
    {
      "cell_type": "markdown",
      "metadata": {
        "nteract": {
          "transient": {
            "deleting": false
          }
        }
      },
      "source": [
        "# Shannons sampling theorem\n"
      ]
    },
    {
      "cell_type": "markdown",
      "metadata": {},
      "source": [
        "## the sampling theorem\n",
        "The sampling theorem state that  \n",
        "\n",
        "---\n",
        "let $f(x)$ be a continous function. We will assume that the 'most high frequency of $f(x)$ is $\\omega$'  \n",
        "\n",
        "Then $f(x)$ can be recovered from each sample in frequency higher than $2\\omega$\n",
        "\n",
        "\n",
        "The `most high frequency` of $f(x)$ came from the fourier series of f. \n",
        "\n",
        "Let $F(u) = \\int_{x=-\\infty}^{\\infty} {f(x)e^{-2\\pi ux}dx}$ be the fourier transform of $f(x)$\n",
        "\n",
        "By the properties of fourier transform and fourier series we know, that each function $f(x)$ can be described as a sum of cosin and sins with some frequencies\n",
        "\n",
        "\n",
        "---\n",
        "\n",
        "The following link may help\n",
        "https://www.youtube.com/watch?v=FcXZ28BX-xE\n",
        "\n"
      ]
    },
    {
      "cell_type": "markdown",
      "metadata": {},
      "source": [
        "### question from exam 2013\n",
        "\n",
        "1.1\tLET F(X) BE A FUNCTION. HOW CAN IT BE RESAMPLE?\n",
        "\n",
        "For simplicity, we will assume we can apply on f(x) the continuous fourier transform. If we can not, all the reconstruction process is \"invalid. We know that f(x) is composed from some sin() and cos() signals  with different frequencies (Fourier series).  \n",
        "The highest (u) with $ F(u)\\ne 0 $ when F is the fourier transform of f, is the hihest frequency appears in the fourier series of f.  \n",
        "If F is with `finite support` (i.e $\\exist_{B} \\forall_{|u|>B}(F(u)=0)$) it can be recovered in the lowest sampling frequency of 2B.\n",
        "\n",
        "This is a lower bound in some cases, and in some cases the function can be recovered in even lower frequency. however, If the sampling frequency is `uniform`, the Shannon's bound is mandatory\n",
        "\n",
        "\n"
      ]
    },
    {
      "cell_type": "code",
      "execution_count": 6,
      "metadata": {},
      "outputs": [
        {
          "data": {
            "text/plain": [
              "<matplotlib.image.AxesImage at 0x7fbbf613f730>"
            ]
          },
          "execution_count": 6,
          "metadata": {},
          "output_type": "execute_result"
        },
        {
          "data": {
            "image/png": "[encoded data removed]",
            "text/plain": [
              "<Figure size 432x288 with 1 Axes>"
            ]
          },
          "metadata": {
            "needs_background": "light"
          },
          "output_type": "display_data"
        }
      ],
      "source": [
        "import numpy as np\n",
        "import matplotlib.pyplot as plt\n",
        "import PIL\n",
        "import cmath\n",
        "\n",
        "def DFT2D(image):\n",
        "    data = np.asarray(image)\n",
        "    M, N = image.size # (img x, img y)\n",
        "    dft2d = np.zeros((M,N),dtype=complex)\n",
        "    for k in range(M):\n",
        "        for l in range(N):\n",
        "            sum_matrix = 0.0\n",
        "            for m in range(M):\n",
        "                for n in range(N):\n",
        "                    e = cmath.exp(- 2j * np.pi * ((k * m) / M + (l * n) / N))\n",
        "                    sum_matrix +=  data[m,n,1] * e\n",
        "            dft2d[k,l] = sum_matrix\n",
        "    return dft2d\n",
        "# this code is not relly efficient since running in for loops and not with torch operations\n",
        "img = PIL.Image.open(\"/home/azureuser/cloudfiles/code/Users/209056712/Intro_To_CV_finals/new_bnw.jpg\")\n",
        "plt.imshow(img)\n",
        "img2 = img.resize((50,50))\n",
        "plt.imshow(img2)\n",
        "dft = DFT2D(img2)\n",
        "plt.imshow(dft.real)"
      ]
    },
    {
      "cell_type": "code",
      "execution_count": null,
      "metadata": {
        "jupyter": {
          "outputs_hidden": false,
          "source_hidden": false
        },
        "nteract": {
          "transient": {
            "deleting": false
          }
        }
      },
      "outputs": [],
      "source": []
    },
    {
      "cell_type": "markdown",
      "metadata": {},
      "source": [
        "# Apply low pass filter on an image\n"
      ]
    },
    {
      "cell_type": "code",
      "execution_count": 7,
      "metadata": {},
      "outputs": [
        {
          "name": "stdout",
          "output_type": "stream",
          "text": [
            "torch.Size([2832, 4256])\n",
            "torch.Size([2832, 4256])\n"
          ]
        }
      ],
      "source": [
        "import torch.fft\n",
        "import torch\n",
        "from PIL import Image\n",
        "import matplotlib.pyplot as plt\n",
        "import numpy as np\n",
        "\n",
        "img = Image.open(r'new_bnw.jpg')\n",
        "img = img.convert('L')\n",
        "img = np.array(img)\n",
        "img = torch.from_numpy(img)\n",
        "print(img.shape)  # (512, 512)\n",
        "\n",
        "fft_img = torch.fft.fft(img)\n",
        "print(fft_img.shape)  # torch.Size([512, 512])\n"
      ]
    }
  ],
  "metadata": {
    "interpreter": {
      "hash": "59b4c7809edb1ed3c1f43d11707fb4ed55010b12d03d62a5a69653dee4c22b9c"
    },
    "kernel_info": {
      "name": "python3-azureml"
    },
    "kernelspec": {
      "display_name": "Python 3.6 - AzureML",
      "language": "python",
      "name": "python3"
    },
    "language_info": {
      "codemirror_mode": {
        "name": "ipython",
        "version": 3
      },
      "file_extension": ".py",
      "mimetype": "text/x-python",
      "name": "python",
      "nbconvert_exporter": "python",
      "pygments_lexer": "ipython3",
      "version": "3.9.7"
    },
    "nteract": {
      "version": "nteract-front-end@1.0.0"
    }
  },
  "nbformat": 4,
  "nbformat_minor": 2
}
